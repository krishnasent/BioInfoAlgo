{
  "nbformat": 4,
  "nbformat_minor": 0,
  "metadata": {
    "colab": {
      "provenance": []
    },
    "kernelspec": {
      "name": "python3",
      "display_name": "Python 3"
    },
    "language_info": {
      "name": "python"
    }
  },
  "cells": [
    {
      "cell_type": "code",
      "execution_count": 4,
      "metadata": {
        "colab": {
          "base_uri": "https://localhost:8080/",
          "height": 321
        },
        "id": "MvQf_TFTmJeD",
        "outputId": "b4cd1b77-f086-469b-9312-e249397a9162"
      },
      "outputs": [
        {
          "output_type": "error",
          "ename": "KeyboardInterrupt",
          "evalue": "Interrupted by user",
          "traceback": [
            "\u001b[0;31m---------------------------------------------------------------------------\u001b[0m",
            "\u001b[0;31mKeyboardInterrupt\u001b[0m                         Traceback (most recent call last)",
            "\u001b[0;32m/tmp/ipython-input-4-3175047171.py\u001b[0m in \u001b[0;36m<cell line: 0>\u001b[0;34m()\u001b[0m\n\u001b[1;32m     80\u001b[0m \u001b[0;34m\u001b[0m\u001b[0m\n\u001b[1;32m     81\u001b[0m \u001b[0;32mif\u001b[0m \u001b[0m__name__\u001b[0m \u001b[0;34m==\u001b[0m \u001b[0;34m\"__main__\"\u001b[0m\u001b[0;34m:\u001b[0m\u001b[0;34m\u001b[0m\u001b[0;34m\u001b[0m\u001b[0m\n\u001b[0;32m---> 82\u001b[0;31m     \u001b[0mmain\u001b[0m\u001b[0;34m(\u001b[0m\u001b[0;34m)\u001b[0m\u001b[0;34m\u001b[0m\u001b[0;34m\u001b[0m\u001b[0m\n\u001b[0m",
            "\u001b[0;32m/tmp/ipython-input-4-3175047171.py\u001b[0m in \u001b[0;36mmain\u001b[0;34m()\u001b[0m\n\u001b[1;32m     69\u001b[0m \u001b[0;31m# Returns: N/A. Prints protein sequence\u001b[0m\u001b[0;34m\u001b[0m\u001b[0;34m\u001b[0m\u001b[0m\n\u001b[1;32m     70\u001b[0m \u001b[0;32mdef\u001b[0m \u001b[0mmain\u001b[0m\u001b[0;34m(\u001b[0m\u001b[0;34m)\u001b[0m\u001b[0;34m:\u001b[0m\u001b[0;34m\u001b[0m\u001b[0;34m\u001b[0m\u001b[0m\n\u001b[0;32m---> 71\u001b[0;31m     \u001b[0mdna_input\u001b[0m \u001b[0;34m=\u001b[0m \u001b[0minput\u001b[0m\u001b[0;34m(\u001b[0m\u001b[0;34m\"Enter DNA code: \"\u001b[0m\u001b[0;34m)\u001b[0m\u001b[0;34m.\u001b[0m\u001b[0mupper\u001b[0m\u001b[0;34m(\u001b[0m\u001b[0;34m)\u001b[0m\u001b[0;34m\u001b[0m\u001b[0;34m\u001b[0m\u001b[0m\n\u001b[0m\u001b[1;32m     72\u001b[0m     \u001b[0mstrand_type\u001b[0m \u001b[0;34m=\u001b[0m \u001b[0minput\u001b[0m\u001b[0;34m(\u001b[0m\u001b[0;34m\"Template or coding? (type 'template' or 'coding'): \"\u001b[0m\u001b[0;34m)\u001b[0m\u001b[0;34m.\u001b[0m\u001b[0mlower\u001b[0m\u001b[0;34m(\u001b[0m\u001b[0;34m)\u001b[0m\u001b[0;34m\u001b[0m\u001b[0;34m\u001b[0m\u001b[0m\n\u001b[1;32m     73\u001b[0m \u001b[0;34m\u001b[0m\u001b[0m\n",
            "\u001b[0;32m/usr/local/lib/python3.11/dist-packages/ipykernel/kernelbase.py\u001b[0m in \u001b[0;36mraw_input\u001b[0;34m(self, prompt)\u001b[0m\n\u001b[1;32m   1175\u001b[0m                 \u001b[0;34m\"raw_input was called, but this frontend does not support input requests.\"\u001b[0m\u001b[0;34m\u001b[0m\u001b[0;34m\u001b[0m\u001b[0m\n\u001b[1;32m   1176\u001b[0m             )\n\u001b[0;32m-> 1177\u001b[0;31m         return self._input_request(\n\u001b[0m\u001b[1;32m   1178\u001b[0m             \u001b[0mstr\u001b[0m\u001b[0;34m(\u001b[0m\u001b[0mprompt\u001b[0m\u001b[0;34m)\u001b[0m\u001b[0;34m,\u001b[0m\u001b[0;34m\u001b[0m\u001b[0;34m\u001b[0m\u001b[0m\n\u001b[1;32m   1179\u001b[0m             \u001b[0mself\u001b[0m\u001b[0;34m.\u001b[0m\u001b[0m_parent_ident\u001b[0m\u001b[0;34m[\u001b[0m\u001b[0;34m\"shell\"\u001b[0m\u001b[0;34m]\u001b[0m\u001b[0;34m,\u001b[0m\u001b[0;34m\u001b[0m\u001b[0;34m\u001b[0m\u001b[0m\n",
            "\u001b[0;32m/usr/local/lib/python3.11/dist-packages/ipykernel/kernelbase.py\u001b[0m in \u001b[0;36m_input_request\u001b[0;34m(self, prompt, ident, parent, password)\u001b[0m\n\u001b[1;32m   1217\u001b[0m             \u001b[0;32mexcept\u001b[0m \u001b[0mKeyboardInterrupt\u001b[0m\u001b[0;34m:\u001b[0m\u001b[0;34m\u001b[0m\u001b[0;34m\u001b[0m\u001b[0m\n\u001b[1;32m   1218\u001b[0m                 \u001b[0;31m# re-raise KeyboardInterrupt, to truncate traceback\u001b[0m\u001b[0;34m\u001b[0m\u001b[0;34m\u001b[0m\u001b[0m\n\u001b[0;32m-> 1219\u001b[0;31m                 \u001b[0;32mraise\u001b[0m \u001b[0mKeyboardInterrupt\u001b[0m\u001b[0;34m(\u001b[0m\u001b[0;34m\"Interrupted by user\"\u001b[0m\u001b[0;34m)\u001b[0m \u001b[0;32mfrom\u001b[0m \u001b[0;32mNone\u001b[0m\u001b[0;34m\u001b[0m\u001b[0;34m\u001b[0m\u001b[0m\n\u001b[0m\u001b[1;32m   1220\u001b[0m             \u001b[0;32mexcept\u001b[0m \u001b[0mException\u001b[0m\u001b[0;34m:\u001b[0m\u001b[0;34m\u001b[0m\u001b[0;34m\u001b[0m\u001b[0m\n\u001b[1;32m   1221\u001b[0m                 \u001b[0mself\u001b[0m\u001b[0;34m.\u001b[0m\u001b[0mlog\u001b[0m\u001b[0;34m.\u001b[0m\u001b[0mwarning\u001b[0m\u001b[0;34m(\u001b[0m\u001b[0;34m\"Invalid Message:\"\u001b[0m\u001b[0;34m,\u001b[0m \u001b[0mexc_info\u001b[0m\u001b[0;34m=\u001b[0m\u001b[0;32mTrue\u001b[0m\u001b[0;34m)\u001b[0m\u001b[0;34m\u001b[0m\u001b[0;34m\u001b[0m\u001b[0m\n",
            "\u001b[0;31mKeyboardInterrupt\u001b[0m: Interrupted by user"
          ]
        }
      ],
      "source": [
        "import numpy as np\n",
        "\n",
        "# This code provides an end to end script to perform translation and transcription for DNA sequences of exons. This will predict the primary structure of the resultant protein.\n",
        "\n",
        "\n",
        "\n",
        "# Codon table for RNA -> Protein translation\n",
        "CODON_TABLE = {\n",
        "    \"UUU\": \"F\", \"UUC\": \"F\",\n",
        "    \"UUA\": \"L\", \"UUG\": \"L\",\n",
        "    \"CUU\": \"L\", \"CUC\": \"L\", \"CUA\": \"L\", \"CUG\": \"L\",\n",
        "    \"AUU\": \"I\", \"AUC\": \"I\", \"AUA\": \"I\",\n",
        "    \"AUG\": \"M\",\n",
        "    \"GUU\": \"V\", \"GUC\": \"V\", \"GUA\": \"V\", \"GUG\": \"V\",\n",
        "    \"GCU\": \"A\", \"GCC\": \"A\", \"GCA\": \"A\", \"GCG\": \"A\",\n",
        "    \"UGU\": \"C\", \"UGC\": \"C\",\n",
        "    \"UGG\": \"W\",\n",
        "    \"UCU\": \"S\", \"UCC\": \"S\", \"UCA\": \"S\", \"UCG\": \"S\",\n",
        "    \"UAU\": \"Y\", \"UAC\": \"Y\",\n",
        "    \"UAA\": \"STOP\", \"UAG\": \"STOP\", \"UGA\": \"STOP\",\n",
        "    \"GAA\": \"E\", \"GAG\": \"E\",\n",
        "    \"GGU\": \"G\", \"GGC\": \"G\", \"GGA\": \"G\", \"GGG\": \"G\",\n",
        "    \"CGU\": \"R\", \"CGC\": \"R\", \"CGA\": \"R\", \"CGG\": \"R\",\n",
        "    \"AGU\": \"S\", \"AGC\": \"S\",\n",
        "    \"AGA\": \"R\", \"AGG\": \"R\"\n",
        "}\n",
        "\n",
        "# Converts a DNA sequence to RNA by replacing 'T' with 'U'\n",
        "# Parameters: dna_seq (str) - a string of DNA nucleotides (e.g., \"ATG\")\n",
        "# Returns: str - RNA sequence with T replaced by U (e.g., \"AUG\")\n",
        "def convert_dna_to_rna(dna_seq):\n",
        "    return dna_seq.replace(\"T\", \"U\")\n",
        "\n",
        "# Transcribes RNA from the input DNA strand, based on strand type\n",
        "# Parameters:\n",
        "#   rna_seq (str) - RNA sequence from convert_dna_to_rna\n",
        "#   strand_type (str) - \"template\" or \"coding\"\n",
        "# Returns: str - complementary RNA if template\n",
        "def transcribe_rna(rna_seq, strand_type):\n",
        "    transcribed = \"\"\n",
        "    for base in rna_seq:\n",
        "        if strand_type == \"template\":\n",
        "            if base == \"A\":\n",
        "                transcribed += \"U\"\n",
        "            elif base == \"U\":\n",
        "                transcribed += \"A\"\n",
        "            elif base == \"C\":\n",
        "                transcribed += \"G\"\n",
        "            elif base == \"G\":\n",
        "                transcribed += \"C\"\n",
        "        elif strand_type == \"coding\":\n",
        "            transcribed += base\n",
        "        else:\n",
        "            print(\"Invalid input for strand type.\")\n",
        "            exit()\n",
        "    return transcribed\n",
        "\n",
        "# Translates a given RNA sequence into an amino acid chain (protein)\n",
        "# Parameters: rna_seq (str), which are RNA sequences\n",
        "# Returns: str - protein sequence of one-letter amino acid codes; STOP codon = stop\n",
        "def translate_rna_to_protein(rna_seq):\n",
        "    protein = \"\"\n",
        "    for i in range(0, len(rna_seq) - 2, 3):\n",
        "        codon = rna_seq[i:i+3]\n",
        "        amino = CODON_TABLE.get(codon, \"?\")\n",
        "        if amino == \"STOP\":\n",
        "            break\n",
        "        protein += amino\n",
        "    return protein\n",
        "\n",
        "\n",
        "# No parameters. Takes input from user.\n",
        "# Returns: N/A. Prints protein sequence\n",
        "def main():\n",
        "    dna_input = input(\"Enter DNA code: \").upper()\n",
        "    strand_type = input(\"Template or coding? (type 'template' or 'coding'): \").lower()\n",
        "\n",
        "    rna_seq = convert_dna_to_rna(dna_input)\n",
        "    transcribed_rna = transcribe_rna(rna_seq, strand_type)\n",
        "    protein_seq = translate_rna_to_protein(transcribed_rna)\n",
        "\n",
        "    print(\"\\nAmino acid sequence:\")\n",
        "    print(protein_seq)\n",
        "\n",
        "if __name__ == \"__main__\":\n",
        "    main()"
      ]
    }
  ]
}